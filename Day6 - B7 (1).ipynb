{
 "cells": [
  {
   "cell_type": "markdown",
   "metadata": {},
   "source": [
    "# Assignment"
   ]
  },
  {
   "cell_type": "markdown",
   "metadata": {},
   "source": [
    "## Question 1"
   ]
  },
  {
   "cell_type": "code",
   "execution_count": 9,
   "metadata": {},
   "outputs": [],
   "source": [
    "class bankacc():\n",
    "    def __init__(self,ownername,bal):\n",
    "        self.ownername = ownername\n",
    "        self.bal = bal\n",
    "    def deposit(self):\n",
    "        n = int(input(\"Enter the amount to be deposited..\"))\n",
    "        b = n + self.bal\n",
    "        print(\"name:\",self.ownername)\n",
    "        print(\"Balance:\",b)\n",
    "    def withdraw(self):\n",
    "        w = int(input(\"Enter the amount to be withdrawn..\"))\n",
    "        if w > self.bal:\n",
    "            print(\"Amount can be withdrawn\")\n",
    "        else:\n",
    "            m = self.bal - w\n",
    "            print(\"Name:\",self.ownername)\n",
    "            print(\"Current Balance:\",m)"
   ]
  },
  {
   "cell_type": "code",
   "execution_count": 10,
   "metadata": {},
   "outputs": [],
   "source": [
    "ac1 = bankacc(\"Max\",25000)"
   ]
  },
  {
   "cell_type": "code",
   "execution_count": 11,
   "metadata": {},
   "outputs": [
    {
     "name": "stdout",
     "output_type": "stream",
     "text": [
      "Enter the amount to be deposited..5000\n",
      "name: Max\n",
      "Balance: 30000\n"
     ]
    }
   ],
   "source": [
    "ac1.deposit()"
   ]
  },
  {
   "cell_type": "code",
   "execution_count": 12,
   "metadata": {},
   "outputs": [
    {
     "name": "stdout",
     "output_type": "stream",
     "text": [
      "Enter the amount to be withdrawn..10000\n",
      "Name: Max\n",
      "Current Balance: 15000\n"
     ]
    }
   ],
   "source": [
    "ac1.withdraw()"
   ]
  },
  {
   "cell_type": "markdown",
   "metadata": {},
   "source": [
    "## Question 2"
   ]
  },
  {
   "cell_type": "code",
   "execution_count": 25,
   "metadata": {},
   "outputs": [],
   "source": [
    "from math import sqrt\n",
    "class area():\n",
    "    def __init__(self,r,h):\n",
    "        self.r=r\n",
    "        self.h=h\n",
    "    def volume(self):\n",
    "        pi = 3.14\n",
    "        v = pi *(self.r**2)-self.h/3\n",
    "        print(\"Volume is:\",v)\n",
    "    def sarea(self):\n",
    "        pi = 3.14\n",
    "        base = pi *(self.r**2)\n",
    "        side = pi *self.r*sqrt((self.r**2)+(self.h**2))\n",
    "        print(\"Base surface area:\",base)\n",
    "        print(\"Side surface area:\",side)"
   ]
  },
  {
   "cell_type": "code",
   "execution_count": 26,
   "metadata": {},
   "outputs": [],
   "source": [
    "a = area(5,6)"
   ]
  },
  {
   "cell_type": "code",
   "execution_count": 27,
   "metadata": {},
   "outputs": [
    {
     "name": "stdout",
     "output_type": "stream",
     "text": [
      "Volume is: 76.5\n"
     ]
    }
   ],
   "source": [
    "a.volume()"
   ]
  },
  {
   "cell_type": "code",
   "execution_count": 28,
   "metadata": {},
   "outputs": [
    {
     "name": "stdout",
     "output_type": "stream",
     "text": [
      "Base surface area: 78.5\n",
      "Side surface area: 122.62091991173448\n"
     ]
    }
   ],
   "source": [
    "a.sarea()"
   ]
  },
  {
   "cell_type": "code",
   "execution_count": null,
   "metadata": {},
   "outputs": [],
   "source": []
  }
 ],
 "metadata": {
  "kernelspec": {
   "display_name": "Python 3",
   "language": "python",
   "name": "python3"
  },
  "language_info": {
   "codemirror_mode": {
    "name": "ipython",
    "version": 3
   },
   "file_extension": ".py",
   "mimetype": "text/x-python",
   "name": "python",
   "nbconvert_exporter": "python",
   "pygments_lexer": "ipython3",
   "version": "3.7.3"
  }
 },
 "nbformat": 4,
 "nbformat_minor": 2
}
