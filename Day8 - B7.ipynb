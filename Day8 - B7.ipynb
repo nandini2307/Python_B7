{
 "cells": [
  {
   "cell_type": "markdown",
   "metadata": {},
   "source": [
    "# Question 1"
   ]
  },
  {
   "cell_type": "code",
   "execution_count": 1,
   "metadata": {},
   "outputs": [],
   "source": [
    "# Decorator function for fibonacci series"
   ]
  },
  {
   "cell_type": "code",
   "execution_count": 8,
   "metadata": {},
   "outputs": [
    {
     "name": "stdout",
     "output_type": "stream",
     "text": [
      "calling fib(0)\n",
      "adding fib(0) to cache\n",
      "0\n",
      "\n",
      "calling fib(1)\n",
      "adding fib(1) to cache\n",
      "1\n",
      "\n",
      "calling fib(2)\n",
      "returning fib(1) from cache.\n",
      "returning fib(0) from cache.\n",
      "adding fib(2) to cache\n",
      "1\n",
      "\n",
      "calling fib(3)\n",
      "returning fib(2) from cache.\n",
      "returning fib(1) from cache.\n",
      "adding fib(3) to cache\n",
      "2\n",
      "\n",
      "calling fib(4)\n",
      "returning fib(3) from cache.\n",
      "returning fib(2) from cache.\n",
      "adding fib(4) to cache\n",
      "3\n",
      "\n",
      "calling fib(5)\n",
      "returning fib(4) from cache.\n",
      "returning fib(3) from cache.\n",
      "adding fib(5) to cache\n",
      "5\n",
      "\n",
      "calling fib(6)\n",
      "returning fib(5) from cache.\n",
      "returning fib(4) from cache.\n",
      "adding fib(6) to cache\n",
      "8\n",
      "\n",
      "calling fib(7)\n",
      "returning fib(6) from cache.\n",
      "returning fib(5) from cache.\n",
      "adding fib(7) to cache\n",
      "13\n",
      "\n",
      "calling fib(8)\n",
      "returning fib(7) from cache.\n",
      "returning fib(6) from cache.\n",
      "adding fib(8) to cache\n",
      "21\n",
      "\n",
      "calling fib(9)\n",
      "returning fib(8) from cache.\n",
      "returning fib(7) from cache.\n",
      "adding fib(9) to cache\n",
      "34\n",
      "\n"
     ]
    }
   ],
   "source": [
    "import collections\n",
    "import functools\n",
    "def memoize(function):\n",
    "    cache = {}\n",
    "    \n",
    "    @functools.wraps(function)\n",
    "    def wrap(*args,**kwargs):\n",
    "        if not isinstance(args,collections.Hashable):\n",
    "            return function(*args,**kwargs)\n",
    "        \n",
    "        if args in cache:\n",
    "            print(\"returning fib({}) from cache.\".format(*args))\n",
    "            return cache[args]\n",
    "        \n",
    "        print('calling fib({})'.format(*args))\n",
    "        value = function(*args,**kwargs)\n",
    "        \n",
    "        print('adding fib({}) to cache'.format(*args))\n",
    "        cache[args] = value\n",
    "        return value\n",
    "    \n",
    "    return wrap\n",
    "\n",
    "@memoize\n",
    "def fib(n):\n",
    "    if n < 2:\n",
    "        return n\n",
    "    return fib(n-1) + fib(n-2)\n",
    "\n",
    "for i in range(10):\n",
    "    print(fib(i),end=\"\\n\\n\")"
   ]
  },
  {
   "cell_type": "markdown",
   "metadata": {},
   "source": [
    "# Question 2"
   ]
  },
  {
   "cell_type": "code",
   "execution_count": 9,
   "metadata": {},
   "outputs": [],
   "source": [
    "file = open('jupyter.txt','w')\n",
    "file.write(\"Hello LetsUpgrade\")\n",
    "file.close()"
   ]
  },
  {
   "cell_type": "code",
   "execution_count": 10,
   "metadata": {},
   "outputs": [
    {
     "data": {
      "text/plain": [
       "'Hello LetsUpgrade'"
      ]
     },
     "execution_count": 10,
     "metadata": {},
     "output_type": "execute_result"
    }
   ],
   "source": [
    "file = open('jupyter.txt','r')\n",
    "file.read()"
   ]
  },
  {
   "cell_type": "code",
   "execution_count": 13,
   "metadata": {},
   "outputs": [],
   "source": [
    "file = open('jupyter.txt','a')\n",
    "file.write(\" Hey there \")\n",
    "file.close()"
   ]
  },
  {
   "cell_type": "code",
   "execution_count": 14,
   "metadata": {},
   "outputs": [
    {
     "data": {
      "text/plain": [
       "'Hello LetsUpgradeHey there Hey there '"
      ]
     },
     "execution_count": 14,
     "metadata": {},
     "output_type": "execute_result"
    }
   ],
   "source": [
    "file = open('jupyter.txt')\n",
    "file.read()"
   ]
  },
  {
   "cell_type": "code",
   "execution_count": 15,
   "metadata": {},
   "outputs": [],
   "source": [
    "file.close()"
   ]
  },
  {
   "cell_type": "code",
   "execution_count": 16,
   "metadata": {},
   "outputs": [
    {
     "name": "stdout",
     "output_type": "stream",
     "text": [
      "Writing test.txt\n"
     ]
    }
   ],
   "source": [
    "%%writefile test.txt\n",
    "\n",
    "'''hello everyone\n",
    "hope you are doing well'''\n",
    "\n",
    "try:\n",
    "    file = open(\"test.txt\",'r')\n",
    "    file.write(\"Hello everyone \")\n",
    "    print(\"Write operation has done successfully\")\n",
    "    \n",
    "except Exception as e:\n",
    "    print(\"Error has been occurred\")\n",
    "    print(\"Error message is:\",e)\n"
   ]
  },
  {
   "cell_type": "code",
   "execution_count": null,
   "metadata": {},
   "outputs": [],
   "source": []
  }
 ],
 "metadata": {
  "kernelspec": {
   "display_name": "Python 3",
   "language": "python",
   "name": "python3"
  },
  "language_info": {
   "codemirror_mode": {
    "name": "ipython",
    "version": 3
   },
   "file_extension": ".py",
   "mimetype": "text/x-python",
   "name": "python",
   "nbconvert_exporter": "python",
   "pygments_lexer": "ipython3",
   "version": "3.7.3"
  }
 },
 "nbformat": 4,
 "nbformat_minor": 2
}
